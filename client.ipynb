{
 "cells": [
  {
   "cell_type": "markdown",
   "id": "2e81ca24",
   "metadata": {},
   "source": [
    "# Build Chains and Results "
   ]
  },
  {
   "cell_type": "code",
   "execution_count": null,
   "id": "4543cba5",
   "metadata": {
    "scrolled": false
   },
   "outputs": [],
   "source": [
    "data_file_name = 'EMS_DCMA_DD_23.08.graphml'\n",
    "experiment = None\n",
    "tasks = 'tdas' # 'milestones' for milestones only, not yet available\n",
    "results = 'prt'# 'chains' for a list of chains only, not yet available\n",
    "from calculate import *\n",
    "if not experiment: experiment = data_file_name.replace('.graphml', '').replace('.', '_')\n",
    "run_calculation_process(data_file_name, experiment, tasks, results)"
   ]
  },
  {
   "cell_type": "markdown",
   "id": "93866843",
   "metadata": {},
   "source": [
    "# Query Results  "
   ]
  },
  {
   "cell_type": "code",
   "execution_count": null,
   "id": "60b4bdf7",
   "metadata": {
    "scrolled": true
   },
   "outputs": [],
   "source": [
    "import duckdb\n",
    "con = duckdb.connect()\n",
    "results_files = \"'{e}/*.parquet'\".format(e=experiment)\n",
    "query = \"\"\"SELECT * FROM {rf} LIMIT 20\"\"\".format(rf=results_files)\n",
    "query_df = con.execute(query).df()\n",
    "#query_df.to_excel('query_df.xlsx')\n",
    "display(query_df)"
   ]
  }
 ],
 "metadata": {
  "kernelspec": {
   "display_name": "Python 3 (ipykernel)",
   "language": "python",
   "name": "python3"
  },
  "language_info": {
   "codemirror_mode": {
    "name": "ipython",
    "version": 3
   },
   "file_extension": ".py",
   "mimetype": "text/x-python",
   "name": "python",
   "nbconvert_exporter": "python",
   "pygments_lexer": "ipython3",
   "version": "3.9.7"
  }
 },
 "nbformat": 4,
 "nbformat_minor": 5
}
