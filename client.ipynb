{
 "cells": [
  {
   "cell_type": "markdown",
   "id": "0fd02d09",
   "metadata": {},
   "source": [
    "# Build Chains and Results  \n",
    "Instructions: https://fsworks.atlassian.net/wiki/spaces/~558841686/pages/edit-v2/2087550977"
   ]
  },
  {
   "cell_type": "code",
   "execution_count": null,
   "id": "da1ddfcf",
   "metadata": {
    "scrolled": false
   },
   "outputs": [],
   "source": [
    "instance_name = 'service_dev'\n",
    "data_file_name = 'MWH-06-UP#13_FSW_REV.graphml'\n",
    "experiment = 'redis_version_test'\n",
    "tasks_types = 'tdas'\n",
    "results = 'prt'\n",
    "query = 'code'\n",
    "build_chains_version = 'redis_scaffolds' # 'dicts_scaffolds'\n",
    "if not experiment: experiment = data_file_name.replace('.graphml', '').replace('.', '_')\n",
    "from modules.run_service import service_manager\n",
    "service_manager(instance_name, data_file_name, experiment, tasks_types, results, query, build_chains_version)"
   ]
  },
  {
   "cell_type": "markdown",
   "id": "c1b031cd",
   "metadata": {},
   "source": [
    "# Query Results  "
   ]
  },
  {
   "cell_type": "code",
   "execution_count": null,
   "id": "6e7369b7",
   "metadata": {
    "scrolled": false
   },
   "outputs": [],
   "source": [
    "import duckdb\n",
    "import os\n",
    "con = duckdb.connect()\n",
    "prt_files_path = os.path.join(experiment, 'prt')\n",
    "results_files = \"'{e}/*.parquet'\".format(e=prt_files_path)\n",
    "query = \"\"\"SELECT * FROM {rf} LIMIT 10\"\"\".format(rf=results_files)\n",
    "query_df = con.execute(query).df()\n",
    "# To save the query results run:\n",
    "#query_df.to_excel('query_df.xlsx')\n",
    "display(query_df)"
   ]
  },
  {
   "cell_type": "markdown",
   "id": "00b24b41",
   "metadata": {},
   "source": [
    "# Read and Write Chains  "
   ]
  },
  {
   "cell_type": "code",
   "execution_count": null,
   "id": "39c3016c",
   "metadata": {},
   "outputs": [],
   "source": [
    "import pandas as pd\n",
    "chains_path = os.path.join(experiment, 'chains.parquet')\n",
    "chains_df = pd.read_parquet(chains_path)\n",
    "chains = list(chains_df['Chain'])\n",
    "chains = '\\n'.join(chains)+'\\n'\n",
    "with open('chains.txt', 'w') as f: f.write(chains)\n",
    "display(chains_df.head())\n",
    "display(chains_df.info())"
   ]
  },
  {
   "cell_type": "code",
   "execution_count": null,
   "id": "5e340da6",
   "metadata": {},
   "outputs": [],
   "source": []
  }
 ],
 "metadata": {
  "kernelspec": {
   "display_name": "Python 3 (ipykernel)",
   "language": "python",
   "name": "python3"
  },
  "language_info": {
   "codemirror_mode": {
    "name": "ipython",
    "version": 3
   },
   "file_extension": ".py",
   "mimetype": "text/x-python",
   "name": "python",
   "nbconvert_exporter": "python",
   "pygments_lexer": "ipython3",
   "version": "3.9.7"
  }
 },
 "nbformat": 4,
 "nbformat_minor": 5
}
