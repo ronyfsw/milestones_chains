{
 "cells": [
  {
   "cell_type": "markdown",
   "id": "2e81ca24",
   "metadata": {},
   "source": [
    "# Build Chains and Results "
   ]
  },
  {
   "cell_type": "code",
   "execution_count": 1,
   "id": "4543cba5",
   "metadata": {
    "scrolled": false
   },
   "outputs": [
    {
     "name": "stdout",
     "output_type": "stream",
     "text": [
      "Starting EC2 instance: i-0586e11281d4b02a2\n",
      "EC2 instance \"i-0586e11281d4b02a2\" has been started\n",
      "Data file uploaded to S3\n",
      "Calculation finished\n",
      "Compute instance stopped\n",
      "Preparing results\n",
      "The results have been downloaded to EMS_DCMA_DD_23_08\n"
     ]
    }
   ],
   "source": [
    "data_file_name = 'EMS_DCMA_DD_23.08.graphml'\n",
    "experiment = None\n",
    "tasks = 'milestones' # 'milestones' for milestones only, not yet available\n",
    "results = 'prt'# 'chains' for a list of chains only, not yet available\n",
    "from calculate import *\n",
    "if not experiment: experiment = data_file_name.replace('.graphml', '').replace('.', '_')\n",
    "run_calculation_process(data_file_name, experiment, tasks, results)"
   ]
  },
  {
   "cell_type": "markdown",
   "id": "93866843",
   "metadata": {},
   "source": [
    "# Query Results  "
   ]
  },
  {
   "cell_type": "code",
   "execution_count": 2,
   "id": "60b4bdf7",
   "metadata": {
    "scrolled": true
   },
   "outputs": [
    {
     "data": {
      "text/html": [
       "<div>\n",
       "<style scoped>\n",
       "    .dataframe tbody tr th:only-of-type {\n",
       "        vertical-align: middle;\n",
       "    }\n",
       "\n",
       "    .dataframe tbody tr th {\n",
       "        vertical-align: top;\n",
       "    }\n",
       "\n",
       "    .dataframe thead th {\n",
       "        text-align: right;\n",
       "    }\n",
       "</style>\n",
       "<table border=\"1\" class=\"dataframe\">\n",
       "  <thead>\n",
       "    <tr style=\"text-align: right;\">\n",
       "      <th></th>\n",
       "      <th>ID</th>\n",
       "      <th>ChainID</th>\n",
       "      <th>TaskID</th>\n",
       "      <th>NeighbourID</th>\n",
       "      <th>Dependency</th>\n",
       "      <th>TaskType</th>\n",
       "      <th>Label</th>\n",
       "      <th>PlannedStart</th>\n",
       "      <th>PlannedEnd</th>\n",
       "      <th>ActualStart</th>\n",
       "      <th>ActualEnd</th>\n",
       "      <th>Float1</th>\n",
       "      <th>Status</th>\n",
       "      <th>File</th>\n",
       "      <th>planned_duration</th>\n",
       "      <th>actual_duration</th>\n",
       "    </tr>\n",
       "  </thead>\n",
       "  <tbody>\n",
       "  </tbody>\n",
       "</table>\n",
       "</div>"
      ],
      "text/plain": [
       "Empty DataFrame\n",
       "Columns: [ID, ChainID, TaskID, NeighbourID, Dependency, TaskType, Label, PlannedStart, PlannedEnd, ActualStart, ActualEnd, Float1, Status, File, planned_duration, actual_duration]\n",
       "Index: []"
      ]
     },
     "metadata": {},
     "output_type": "display_data"
    }
   ],
   "source": [
    "import duckdb\n",
    "con = duckdb.connect()\n",
    "results_files = \"'{e}/*.parquet'\".format(e=experiment)\n",
    "query = \"\"\"SELECT * FROM {rf} \"\"\".format(rf=results_files)\n",
    "query_df = con.execute(query).df()\n",
    "#query_df.to_excel('query_df.xlsx')\n",
    "display(query_df.head(20))"
   ]
  },
  {
   "cell_type": "code",
   "execution_count": 3,
   "id": "bfe1b7c3",
   "metadata": {},
   "outputs": [
    {
     "data": {
      "text/plain": [
       "0"
      ]
     },
     "execution_count": 3,
     "metadata": {},
     "output_type": "execute_result"
    }
   ],
   "source": [
    "len(query_df)"
   ]
  },
  {
   "cell_type": "code",
   "execution_count": null,
   "id": "24b089cf",
   "metadata": {},
   "outputs": [],
   "source": []
  }
 ],
 "metadata": {
  "kernelspec": {
   "display_name": "Python 3 (ipykernel)",
   "language": "python",
   "name": "python3"
  },
  "language_info": {
   "codemirror_mode": {
    "name": "ipython",
    "version": 3
   },
   "file_extension": ".py",
   "mimetype": "text/x-python",
   "name": "python",
   "nbconvert_exporter": "python",
   "pygments_lexer": "ipython3",
   "version": "3.9.7"
  }
 },
 "nbformat": 4,
 "nbformat_minor": 5
}
