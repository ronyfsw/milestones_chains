{
 "cells": [
  {
   "cell_type": "code",
   "execution_count": 1,
   "id": "4543cba5",
   "metadata": {},
   "outputs": [],
   "source": [
    "data_file_name = 'EMS_DCMA_DD_23.08.graphml'\n",
    "import os\n",
    "import networkx as nx\n",
    "import boto3\n",
    "import paramiko\n",
    "from zipfile import ZipFile\n",
    "import pandas as pd\n",
    "# Run arguments\n",
    "host_os = 'linux_mac' # or 'windows'\n",
    "working_dir = os.getcwd()\n",
    "data_dir = os.path.join(working_dir, 'data')\n",
    "data_path = os.path.join(data_dir, data_file_name)\n",
    "experiment = data_file_name.replace('.graphml', '').replace('.', '_')\n",
    "experiment_dir = '{e}_results'.format(e=experiment)\n",
    "if experiment_dir not in os.listdir(working_dir):\n",
    "    os.mkdir(experiment_dir)\n",
    "tasks = 'tdas'\n",
    "results = 'prt'\n",
    "\n",
    "## AWS\n",
    "# IPs\n",
    "resultsIP = '172.31.10.240'\n",
    "serviceIP = '172.31.15.123'\n",
    "# Compute instance\n",
    "key_file_name = 'ds_eu_west2_2.pem'\n",
    "if host_os=='windows':\n",
    "    key_file_name = 'C:\\\\Users\\\\username\\\\.aws\\\\ds_eu_west2_2.pem'\n",
    "else:\n",
    "    key_file_name = '~/.aws/ds_eu_west2_2.pem'\n",
    "INSTANCE_ID = 'i-0586e11281d4b02a2'\n",
    "AWS_REGION = \"eu-west-2\"\n",
    "EC2_RESOURCE = boto3.resource('ec2', region_name=AWS_REGION)\n",
    "EC2_CLIENT = boto3.client('ec2', region_name=AWS_REGION)\n",
    "\n",
    "# Storage bucket\n",
    "profile_name = 'ds_sandbox'\n",
    "data_bucket = 'programsdatabucket'\n",
    "results_bucket = 'chainsresults'\n",
    "session = boto3.session.Session(profile_name=profile_name)\n",
    "S3_CLIENT = session.client('s3')\n",
    "S3_RESOURCE = boto3.resource('s3')"
   ]
  },
  {
   "cell_type": "code",
   "execution_count": 2,
   "id": "8957b306",
   "metadata": {},
   "outputs": [],
   "source": [
    "# Upload data to an S3 bucket\n",
    "S3_CLIENT.upload_file(data_path, data_bucket, data_file_name)"
   ]
  },
  {
   "cell_type": "code",
   "execution_count": 3,
   "id": "f8ca02fd",
   "metadata": {},
   "outputs": [
    {
     "name": "stdout",
     "output_type": "stream",
     "text": [
      "Starting EC2 instance: i-0586e11281d4b02a2\n",
      "EC2 instance \"i-0586e11281d4b02a2\" has been started\n"
     ]
    }
   ],
   "source": [
    "# Start compute instance\n",
    "instance = EC2_RESOURCE.Instance(INSTANCE_ID)\n",
    "instance.start()\n",
    "print(f'Starting EC2 instance: {instance.id}')\n",
    "instance.wait_until_running()\n",
    "print(f'EC2 instance \"{instance.id}\" has been started')"
   ]
  },
  {
   "cell_type": "code",
   "execution_count": 4,
   "id": "72dcaec3",
   "metadata": {},
   "outputs": [],
   "source": [
    "# Connect to instance to run process \n",
    "ssh = paramiko.SSHClient()\n",
    "ssh.set_missing_host_key_policy(paramiko.AutoAddPolicy())\n",
    "privkey = paramiko.RSAKey.from_private_key_file('ds_eu_west2_2.pem') # Works only with local pem file\n",
    "ssh.connect(hostname=serviceIP, username='ubuntu', pkey=privkey)"
   ]
  },
  {
   "cell_type": "code",
   "execution_count": 5,
   "id": "3b6c8307",
   "metadata": {
    "scrolled": false
   },
   "outputs": [
    {
     "name": "stdout",
     "output_type": "stream",
     "text": [
      "Run attempt encountered error:\n",
      " []\n",
      "calculation finished\n"
     ]
    }
   ],
   "source": [
    "process_statement = \"python3 remote_run_test.py\"\n",
    "process_statement = 'cd services/milestones_chains && python3 service.py {f} {e} {t} {r}'\\\n",
    ".format(f=data_file_name, e=experiment, t=tasks, r=results)\n",
    "stdin, stdout, stderr = ssh.exec_command(process_statement)\n",
    "#if stderr:\n",
    "#    print('Run attempt encountered error:\\n', stderr.readlines())\n",
    "print('calculation finished')\n",
    "# Stop compute instance\n",
    "response = EC2_CLIENT.stop_instances(InstanceIds=[INSTANCE_ID], DryRun=False)"
   ]
  },
  {
   "cell_type": "code",
   "execution_count": 6,
   "id": "f9b53466",
   "metadata": {},
   "outputs": [],
   "source": [
    "# Prepare results\n",
    "S3_RESOURCE.Bucket(results_bucket).download_file(experiment, 'experiment_zipped')\n",
    "with ZipFile('experiment_zipped', 'r') as zipObj:\n",
    "   zipObj.extractall(path=experiment_dir)\n",
    "results_files = os.listdir(experiment_dir)\n",
    "if len(results_files) == 1:\n",
    "    file = results_files[0]\n",
    "    df = pd.read_parquet(file)\n",
    "    df.to_excel(os.path.join(experiment_dir, 'results.xlsx'), index=False)\n",
    "print('The results have been downloaded to {e}'.format(experiment_dir))"
   ]
  }
 ],
 "metadata": {
  "kernelspec": {
   "display_name": "Python 3 (ipykernel)",
   "language": "python",
   "name": "python3"
  },
  "language_info": {
   "codemirror_mode": {
    "name": "ipython",
    "version": 3
   },
   "file_extension": ".py",
   "mimetype": "text/x-python",
   "name": "python",
   "nbconvert_exporter": "python",
   "pygments_lexer": "ipython3",
   "version": "3.9.7"
  }
 },
 "nbformat": 4,
 "nbformat_minor": 5
}
