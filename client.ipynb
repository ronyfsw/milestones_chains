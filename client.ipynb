{
 "cells": [
  {
   "cell_type": "code",
   "execution_count": 9,
   "id": "4543cba5",
   "metadata": {},
   "outputs": [],
   "source": [
    "import os\n",
    "import networkx as nx\n",
    "import boto3\n",
    "import paramiko\n",
    "\n",
    "# Run arguments\n",
    "host_os = 'linux_mac' # or 'windows'\n",
    "data_dir = '/home/rony/services/milestones_chains/data/'\n",
    "data_file_name = 'EMS_DCMA_DD_23.08.graphml'\n",
    "data_path = os.path.join(data_dir, data_file_name)\n",
    "experiment = 'remote_test1'\n",
    "\n",
    "## AWS\n",
    "# IPs\n",
    "resultsIP = '172.31.10.240'\n",
    "serviceIP = '172.31.15.123'\n",
    "# Compute instance\n",
    "key_file_name = 'ds_eu_west2_2.pem'\n",
    "if host_os=='windows':\n",
    "    key_file_name = 'C:\\\\Users\\\\username\\\\.aws\\\\ds_eu_west2_2.pem'\n",
    "else:\n",
    "    key_file_name = '~/.aws/ds_eu_west2_2.pem'\n",
    "INSTANCE_ID = 'i-0586e11281d4b02a2'\n",
    "AWS_REGION = \"eu-west-2\"\n",
    "EC2_RESOURCE = boto3.resource('ec2', region_name=AWS_REGION)\n",
    "EC2_CLIENT = boto3.client('ec2', region_name=AWS_REGION)\n",
    "\n",
    "# Storage bucket\n",
    "profile_name = 'default'\n",
    "data_bucket = 'programsdatabucket'\n",
    "results_bucket = 'chainsresults'\n",
    "session = boto3.session.Session(profile_name=profile_name)\n",
    "s3_client = session.client('s3')\n",
    "s3_resource = boto3.resource('s3')"
   ]
  },
  {
   "cell_type": "code",
   "execution_count": 3,
   "id": "f8ca02fd",
   "metadata": {},
   "outputs": [
    {
     "name": "stdout",
     "output_type": "stream",
     "text": [
      "Starting EC2 instance: i-0586e11281d4b02a2\n",
      "EC2 instance \"i-0586e11281d4b02a2\" has been started\n"
     ]
    }
   ],
   "source": [
    "# Start compute instance\n",
    "instance = EC2_RESOURCE.Instance(INSTANCE_ID)\n",
    "instance.start()\n",
    "print(f'Starting EC2 instance: {instance.id}')\n",
    "instance.wait_until_running()\n",
    "print(f'EC2 instance \"{instance.id}\" has been started')\n",
    "\n",
    "# Connect to instance to run process \n",
    "ssh = paramiko.SSHClient()\n",
    "ssh.set_missing_host_key_policy(paramiko.AutoAddPolicy())\n",
    "privkey = paramiko.RSAKey.from_private_key_file('ds_eu_west2_2.pem') # Works only with local pem file\n",
    "ssh.connect(hostname=serviceIP, username='ubuntu', pkey=privkey)"
   ]
  },
  {
   "cell_type": "code",
   "execution_count": 8,
   "id": "3b6c8307",
   "metadata": {},
   "outputs": [
    {
     "name": "stdout",
     "output_type": "stream",
     "text": [
      "Run attempt encountered error:\n",
      " [\"python3: can't open file 'run_pipelines.py': [Errno 2] No such file or directory\\n\"]\n"
     ]
    }
   ],
   "source": [
    "# Upload data to an S3 bucket\n",
    "s3_client.upload_file(data_path, data_bucket, data_file_name)\n",
    "\n",
    "#process_statement = \"python3 remote_run_test.py\"\n",
    "ssh.exec_command('cd milestones_chains')\n",
    "process_statement = 'python3 ./services/milestones_chains/run_pipelines.py'\n",
    "process_statement = 'cd milestones_chains && python3 service.py'\n",
    "\n",
    "stdin, stdout, stderr = ssh.exec_command(process_statement)\n",
    "if stderr:\n",
    "    print('Run attempt encountered error:\\n', stderr.readlines())\n",
    "elif stdout:\n",
    "    print(stdout.readlines())\n",
    "    # stdout = stdout.readlines()[0]\n",
    "    # stdout = stdout.replace('\\n', '')\n",
    "    if stdout == 'completed':\n",
    "        print(stdout)\n",
    "        # Stop instance \n",
    "        response = EC2_CLIENT.stop_instances(InstanceIds=[INSTANCE_ID], DryRun=False)\n",
    "        # Delete data from S3 bucket\n",
    "        s3_resource.Object(data_bucket, data_file_name).delete()"
   ]
  },
  {
   "cell_type": "code",
   "execution_count": 10,
   "id": "8ed5dad6",
   "metadata": {},
   "outputs": [],
   "source": [
    "response = EC2_CLIENT.stop_instances(InstanceIds=[INSTANCE_ID], DryRun=False)"
   ]
  }
 ],
 "metadata": {
  "kernelspec": {
   "display_name": "Python 3 (ipykernel)",
   "language": "python",
   "name": "python3"
  },
  "language_info": {
   "codemirror_mode": {
    "name": "ipython",
    "version": 3
   },
   "file_extension": ".py",
   "mimetype": "text/x-python",
   "name": "python",
   "nbconvert_exporter": "python",
   "pygments_lexer": "ipython3",
   "version": "3.9.7"
  }
 },
 "nbformat": 4,
 "nbformat_minor": 5
}
