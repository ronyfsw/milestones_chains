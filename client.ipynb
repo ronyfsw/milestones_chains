{
 "cells": [
  {
   "cell_type": "markdown",
   "id": "2e81ca24",
   "metadata": {},
   "source": [
    "# Build Chains and Results "
   ]
  },
  {
   "cell_type": "code",
   "execution_count": 1,
   "id": "4543cba5",
   "metadata": {
    "scrolled": false
   },
   "outputs": [
    {
     "name": "stdout",
     "output_type": "stream",
     "text": [
      "Starting EC2 instance: i-0586e11281d4b02a2\n",
      "EC2 instance \"i-0586e11281d4b02a2\" has been started\n",
      "Data file uploaded to S3\n",
      "Calculation finished\n",
      "Compute instance stopped\n",
      "Preparing results\n",
      "The results have been downloaded to write_chains_test\n"
     ]
    }
   ],
   "source": [
    "import subprocess\n",
    "data_file_name = 'EMS_DCMA_DD_23.08.graphml'\n",
    "experiment = None\n",
    "tasks_types = 'tdas'\n",
    "results = 'prt'\n",
    "query = 'code' \n",
    "if not experiment: experiment = data_file_name.replace('.graphml', '').replace('.', '_')\n",
    "from calculate import *\n",
    "run_calculation_process(data_file_name, experiment, tasks_types, results, query)"
   ]
  },
  {
   "cell_type": "markdown",
   "id": "93866843",
   "metadata": {},
   "source": [
    "# Query Results  "
   ]
  },
  {
   "cell_type": "code",
   "execution_count": null,
   "id": "60b4bdf7",
   "metadata": {
    "scrolled": false
   },
   "outputs": [],
   "source": [
    "import duckdb\n",
    "con = duckdb.connect()\n",
    "prt_files_path = os.path.join(experiment, 'prt')\n",
    "results_files = \"'{e}/*.parquet'\".format(e=prt_files_path)\n",
    "query = \"\"\"SELECT * FROM {rf} \"\"\".format(rf=results_files)\n",
    "query_df = con.execute(query).df()\n",
    "#query_df.to_excel('query_df.xlsx')\n",
    "display(query_df.head(20))"
   ]
  },
  {
   "cell_type": "code",
   "execution_count": null,
   "id": "bfe1b7c3",
   "metadata": {},
   "outputs": [],
   "source": [
    "len(query_df)"
   ]
  }
 ],
 "metadata": {
  "kernelspec": {
   "display_name": "Python 3 (ipykernel)",
   "language": "python",
   "name": "python3"
  },
  "language_info": {
   "codemirror_mode": {
    "name": "ipython",
    "version": 3
   },
   "file_extension": ".py",
   "mimetype": "text/x-python",
   "name": "python",
   "nbconvert_exporter": "python",
   "pygments_lexer": "ipython3",
   "version": "3.9.7"
  }
 },
 "nbformat": 4,
 "nbformat_minor": 5
}
